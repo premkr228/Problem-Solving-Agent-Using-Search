{
  "cells": [
    {
      "cell_type": "markdown",
      "metadata": {
        "id": "MzZ4dJQYF7sH"
      },
      "source": [
        "# Artificial and Computational Intelligence Assignment 1"
      ]
    },
    {
      "cell_type": "markdown",
      "metadata": {
        "id": "Fxb1aE9zF7sK"
      },
      "source": [
        "## Problem solving by Uninformed & Informed Search"
      ]
    },
    {
      "cell_type": "markdown",
      "metadata": {
        "id": "pt5ygv_zF7sL"
      },
      "source": [
        "Things to follow\n",
        "1.\tUse appropriate data structures to represent the graph and the path using python libraries\n",
        "2.\tProvide proper documentation\n",
        "3.\tFind the path and print it"
      ]
    },
    {
      "cell_type": "markdown",
      "metadata": {
        "id": "wZfop5ElF7sL"
      },
      "source": [
        "Coding begins here"
      ]
    },
    {
      "cell_type": "markdown",
      "metadata": {
        "id": "IL0QDMy3F7sL"
      },
      "source": [
        "### 1.\tDefine the environment in the following block"
      ]
    },
    {
      "cell_type": "markdown",
      "metadata": {
        "id": "RYwJPNLIF7sM"
      },
      "source": [
        "List the PEAS decription of the problem here in this markdown block\n",
        "\n",
        "<table style=\"width: 100%; border: 1px solid black; font-family: Arial, sans-serif;\">\n",
        "    <tr>\n",
        "        <th style=\"border: 1px solid black; padding: 10px; background-color: #f2f2f2; text-align: left;\">Performance</th>\n",
        "        <td style=\"background-color: #fff; border: 1px solid black; padding: 10px;\">Reaching the dirtiest spot with minimal energy consumption and perform intensive cleaning</td>\n",
        "    </tr>\n",
        "    <tr>\n",
        "        <th style=\"border: 1px solid black; padding: 10px; background-color: #f2f2f2; text-align: left;\">Environment</th>\n",
        "        <td style=\"border: 1px solid black; padding: 10px;\">\n",
        "            - Dirt in different spots of a room specified in cells in the 2D grid layout<br/><br/>\n",
        "            - Termination upon reaching local or global maximum\n",
        "        </td>\n",
        "    </tr>\n",
        "    <tr>\n",
        "        <th style=\"border: 1px solid black; padding: 10px; background-color: #f2f2f2; text-align: left;\">Actuators</th>\n",
        "        <td style=\"border: 1px solid black; padding: 10px;\">Move Up, Move Down, Move Right, Move Left, NoOp</td>\n",
        "    </tr>\n",
        "    <tr>\n",
        "        <th style=\"border: 1px solid black; padding: 10px; background-color: #f2f2f2; text-align: left;\">Sensors</th>\n",
        "        <td style=\"border: 1px solid black; padding: 10px;\">Read the location of adjacent cells and detect dirt</td>\n",
        "    </tr>\n",
        "</table>"
      ]
    },
    {
      "cell_type": "markdown",
      "metadata": {
        "id": "XJ3cHp1IF7sM"
      },
      "source": [
        "Design the agent as PSA Agent(Problem Solving Agent)\n",
        "Clear Initial data structures to define the graph and variable declarations is expected\n",
        "IMPORTATANT: Write distinct code block as below"
      ]
    },
    {
      "cell_type": "code",
      "execution_count": null,
      "metadata": {
        "id": "osp61RsLF7sN"
      },
      "outputs": [],
      "source": [
        "#Code Block : Set Initial State (Must handle dynamic inputs)\n",
        "\n",
        "# used for mathematical operations\n",
        "import math\n",
        "\n",
        "# used for priority queue data structure needed for IDA* implementation\n",
        "import heapq\n",
        "\n",
        "# used to calculate elapsed time for benchmarking\n",
        "import time\n",
        "\n",
        "# grid list of lists which holds the amount of dirt given in the problem statement matrix\n",
        "grid = [\n",
        "    [0, 2, 5, 1],\n",
        "    [3, 8, 6, 4],\n",
        "    [1, 4, 9, 2],\n",
        "    [0, 3, 5, 1]\n",
        "]\n",
        "\n",
        "# directions list holding tuples which are used to compute moving up, down, left and right\n",
        "directions = [(-1, 0), (1, 0), (0, -1), (0, 1)]"
      ]
    },
    {
      "cell_type": "code",
      "execution_count": null,
      "metadata": {
        "id": "XODwoWZ0F7sO"
      },
      "outputs": [],
      "source": [
        "#Code Block : Set the matrix for transition & cost (as relevant for the given problem)\n",
        "\n",
        "# cost function to get uniform cost of moving between adjacent cells\n",
        "def get_cost(state1, state2):\n",
        "    return 1"
      ]
    },
    {
      "cell_type": "code",
      "execution_count": null,
      "metadata": {
        "id": "ro24Gaj7F7sO"
      },
      "outputs": [],
      "source": [
        "#Code Block : Write function to design the Transition Model/Successor function. Ideally this would be called while search algorithms are implemented\n",
        "\n",
        "\"\"\"\n",
        "Finds all valid successor states (neighboring cells) for a given state in the grid.\n",
        "\n",
        "Args:\n",
        "    state (tuple): The current position in the grid as (x, y).\n",
        "    grid (list of lists): The 2D grid representing the environment.\n",
        "\n",
        "Returns:\n",
        "    list: A list of valid successor states as (x, y) tuples.\n",
        "\"\"\"\n",
        "def get_successors(state, grid):\n",
        "    x, y = state  # Extract the current position's coordinates.\n",
        "    successors = []  # Initialize an empty list to store valid successors.\n",
        "\n",
        "    # Iterate over all possible movement directions (UP, DOWN, LEFT, RIGHT).\n",
        "    for dx, dy in directions:\n",
        "        # Calculate the new position after applying the direction.\n",
        "        nx, ny = x + dx, y + dy\n",
        "\n",
        "        # Check if the new position (nx, ny) is within the grid's bounds.\n",
        "        if 0 <= nx < len(grid) and 0 <= ny < len(grid[0]):\n",
        "            # If the position is valid, add it to the successors list.\n",
        "            successors.append((nx, ny))\n",
        "\n",
        "    # Return the list of all valid successor positions.\n",
        "    return successors"
      ]
    },
    {
      "cell_type": "code",
      "execution_count": null,
      "metadata": {
        "id": "HIVPhrRWF7sO"
      },
      "outputs": [],
      "source": [
        "#Code block : Write fucntion to handle goal test (Must handle dynamic inputs). Ideally this would be called while search algorithms are implemented\n",
        "\n",
        "\"\"\"\n",
        "Checks if the given state is the goal state in the grid.\n",
        "\n",
        "Args:\n",
        "    state (tuple): The current position in the grid as (x, y).\n",
        "    grid (list of lists): The 2D grid representing the environment.\n",
        "\n",
        "Returns:\n",
        "    bool: True if the current state is the goal state (has the maximum value in the grid),\n",
        "          False otherwise.\n",
        "\"\"\"\n",
        "def is_goal(state, grid):\n",
        "    # Find the maximum value in the entire grid.\n",
        "    # The `max(row)` finds the maximum value in each row, and `max(max(row) for row in grid)`\n",
        "    # finds the overall maximum value across all rows.\n",
        "    max_val = max(max(row) for row in grid)\n",
        "\n",
        "    # Check if the value at the current state's position matches the maximum value.\n",
        "    # If the value at grid[state[0]][state[1]] equals max_val, return True, else return False.\n",
        "    return grid[state[0]][state[1]] == max_val\n"
      ]
    },
    {
      "cell_type": "markdown",
      "metadata": {
        "id": "Z4QwDeX5F7sO"
      },
      "source": [
        "### 2.\tDefinition of Algorithm 1 (Iterative Deepening A* Algorithm)"
      ]
    },
    {
      "cell_type": "code",
      "execution_count": null,
      "metadata": {
        "id": "zD_EPCHWF7sO"
      },
      "outputs": [],
      "source": [
        "#Code Block : Function for algorithm 1 implementation\n",
        "\n",
        "\"\"\"\n",
        "Performs Iterative Deepening A* (IDA*) search to find the shortest path to the goal state\n",
        "(cell with the maximum value) in the given grid.\n",
        "\n",
        "Args:\n",
        "    grid (list of lists): The 2D grid representing the environment.\n",
        "    start (tuple): The starting position in the grid as (x, y).\n",
        "\n",
        "Returns:\n",
        "    tuple: A tuple containing the path (list of tuples), cost (int), and final threshold (int).\n",
        "            If no path is found, returns (None, None, None).\n",
        "\"\"\"\n",
        "def ida_star(grid, start):\n",
        "    # Step 1: Find the goal state (the cell with the maximum value in the grid).\n",
        "    goal = None\n",
        "    max_val = float('-inf')  # Initialize maximum value to negative infinity.\n",
        "    for i in range(len(grid)):  # Iterate through all rows.\n",
        "        for j in range(len(grid[0])):  # Iterate through all columns in a row.\n",
        "            if grid[i][j] > max_val:  # Check if the current cell's value is greater than max_val.\n",
        "                max_val = grid[i][j]  # Update max_val to the current cell's value.\n",
        "                goal = (i, j)  # Set the goal to the current cell's position.\n",
        "\n",
        "    \"\"\"\n",
        "    Recursive function to perform depth-first search with a cost threshold.\n",
        "\n",
        "    Args:\n",
        "        path (list): The current path being explored.\n",
        "        g (int): The current cost (distance traveled so far).\n",
        "        threshold (int): The current cost threshold.\n",
        "\n",
        "    Returns:\n",
        "        int or list: The updated threshold if no solution is found, or the path if the goal is reached.\n",
        "    \"\"\"\n",
        "    def search(path, g, threshold):\n",
        "        current = path[-1]  # Get the current position from the end of the path.\n",
        "        f = g + heuristic(current, goal)  # Calculate f(n) = g(n) + h(n).\n",
        "\n",
        "        # If f exceeds the threshold, return f as the updated threshold.\n",
        "        if f > threshold:\n",
        "            return f\n",
        "\n",
        "        # If the current position is the goal, return the path as the solution.\n",
        "        if is_goal(current, grid):\n",
        "            return path\n",
        "\n",
        "        # Initialize the minimum threshold for the next iteration to infinity.\n",
        "        min_threshold = math.inf\n",
        "\n",
        "        # Explore all valid successor states (neighbors).\n",
        "        for successor in get_successors(current, grid):\n",
        "            if successor not in path:  # Avoid revisiting nodes in the current path.\n",
        "                # Recursively search from the successor.\n",
        "                result = search(path + [successor], g + get_cost(current, successor), threshold)\n",
        "                if isinstance(result, list):  # If a path is found, return it.\n",
        "                    return result\n",
        "                min_threshold = min(min_threshold, result)  # Update the minimum threshold.\n",
        "\n",
        "        return min_threshold  # Return the updated threshold for the next iteration.\n",
        "\n",
        "    # Heuristic function: Manhattan distance between the current position and the goal.\n",
        "    def heuristic(pos, goal):\n",
        "        return abs(pos[0] - goal[0]) + abs(pos[1] - goal[1])\n",
        "\n",
        "    # Step 2: Initialize the threshold to the heuristic value of the start position.\n",
        "    threshold = heuristic(start, goal)\n",
        "\n",
        "    # Step 3: Iteratively deepen the search until a solution is found or no more paths exist.\n",
        "    while True:\n",
        "        result = search([start], 0, threshold)  # Start the search with the initial threshold.\n",
        "        if isinstance(result, list):  # If a path is found, return the path, cost, and threshold.\n",
        "            return result, len(result), threshold\n",
        "        if result == math.inf:  # If no solution exists, return None for all outputs.\n",
        "            return None, None, None\n",
        "        threshold = result  # Update the threshold for the next iteration.\n"
      ]
    },
    {
      "cell_type": "markdown",
      "metadata": {
        "id": "KnbdDl6HF7sO"
      },
      "source": [
        "### 3.\tDefinition of Algorithm 2 (Hill Climbing Algorithm)"
      ]
    },
    {
      "cell_type": "code",
      "execution_count": null,
      "metadata": {
        "id": "3HYh7-eJF7sP"
      },
      "outputs": [],
      "source": [
        "#Code Block : Function for algorithm 2 implementation\n",
        "\n",
        "\"\"\"\n",
        "Performs the Hill Climbing algorithm to find the highest dirt value in a grid starting from a given position.\n",
        "\n",
        "Args:\n",
        "    grid (list of lists): The 2D grid representing the environment.\n",
        "                          Each cell contains a numeric value indicating the amount of dirt.\n",
        "    start (tuple): The starting position in the grid as (x, y).\n",
        "\n",
        "Returns:\n",
        "    tuple: A tuple containing:\n",
        "        - path (list): The sequence of positions visited.\n",
        "        - len(path) (int): The number of steps taken.\n",
        "        - grid[current[0]][current[1]] (int): The dirt value at the final position (local maximum).\n",
        "\"\"\"\n",
        "def hill_climbing(grid, start):\n",
        "    # Initialize the current position to the starting position.\n",
        "    current = start\n",
        "\n",
        "    # Initialize the path to include the starting position.\n",
        "    path = [current]\n",
        "\n",
        "    # Start the Hill Climbing process.\n",
        "    while True:\n",
        "        # Get all valid successors (neighbors) of the current position.\n",
        "        successors = get_successors(current, grid)\n",
        "\n",
        "        # Select the neighbor with the maximum dirt value.\n",
        "        # If there are no successors, default to None.\n",
        "        next_state = max(successors, key=lambda s: grid[s[0]][s[1]], default=None)\n",
        "\n",
        "        # Check termination conditions:\n",
        "        # 1. If there are no valid successors (next_state is None).\n",
        "        # 2. If the best successor's value is not greater than the current cell's value.\n",
        "        if next_state is None or grid[next_state[0]][next_state[1]] <= grid[current[0]][current[1]]:\n",
        "            break  # Terminate the search (local maximum reached).\n",
        "\n",
        "        # Move to the best successor (next_state) and add it to the path.\n",
        "        current = next_state\n",
        "        path.append(current)\n",
        "\n",
        "    # Return the path, number of steps, and the dirt value at the final position.\n",
        "    return path, len(path), grid[current[0]][current[1]]\n"
      ]
    },
    {
      "cell_type": "markdown",
      "metadata": {
        "id": "LEV2XHccF7sP"
      },
      "source": [
        "### DYNAMIC INPUT"
      ]
    },
    {
      "cell_type": "markdown",
      "metadata": {
        "id": "CylYRo_DF7sP"
      },
      "source": [
        "IMPORTANT : Dynamic Input must be got in this section. Display the possible states to choose from:\n",
        "This is applicable for all the relevent problems as mentioned in the question."
      ]
    },
    {
      "cell_type": "code",
      "execution_count": null,
      "metadata": {
        "colab": {
          "base_uri": "https://localhost:8080/"
        },
        "id": "Q5t1Lc-wF7sP",
        "outputId": "787e8c41-b22a-453c-f4d3-d1728411cf4d"
      },
      "outputs": [
        {
          "name": "stdout",
          "output_type": "stream",
          "text": [
            "Enter the starting row index (0-3): 0\n",
            "Enter the starting column index (0-3): 0\n"
          ]
        }
      ],
      "source": [
        "#Code Block : Function & call to get inputs (start/end state)\n",
        "\n",
        "\"\"\"\n",
        "Prompts the user to enter a valid starting position within the grid.\n",
        "\n",
        "Returns:\n",
        "    tuple: A valid (row, column) start position entered by the user.\n",
        "\"\"\"\n",
        "def get_user_start_state():\n",
        "    while True:  # Keep asking for input until a valid position is provided.\n",
        "        try:\n",
        "            # Prompt the user to enter the row index (integer).\n",
        "            x = int(input(\"Enter the starting row index (0-3): \"))\n",
        "\n",
        "            # Prompt the user to enter the column index (integer).\n",
        "            y = int(input(\"Enter the starting column index (0-3): \"))\n",
        "\n",
        "            # Check if the entered position is within the valid grid boundaries.\n",
        "            if 0 <= x < len(grid) and 0 <= y < len(grid[0]):\n",
        "                return (x, y)  # Return the valid position as a tuple.\n",
        "            else:\n",
        "                print(\"Invalid input. Please enter values within the grid range (0-3).\")\n",
        "\n",
        "        except ValueError:\n",
        "            # Handle cases where the user enters a non-integer value.\n",
        "            print(\"Invalid input. Please enter integers only.\")\n",
        "\n",
        "# Call the function to get the starting position from the user.\n",
        "start = get_user_start_state()\n"
      ]
    },
    {
      "cell_type": "markdown",
      "metadata": {
        "id": "xsfOP81lF7sP"
      },
      "source": [
        "### 4.\tCalling the search algorithms\n",
        "(For bidirectional search in below sections first part can be used as per Hint provided. Under second section other combinations as per Hint or your choice of 2 algorithms can be called .As an analyst suggest suitable approximation in the comparitive analysis section)"
      ]
    },
    {
      "cell_type": "code",
      "execution_count": null,
      "metadata": {
        "id": "Hjy2bkK8LLX7"
      },
      "outputs": [],
      "source": [
        "import networkx as nx\n",
        "import matplotlib.pyplot as plt\n",
        "\n",
        "\"\"\"\n",
        "Though this is not part of the alorithm implementation, this function is\n",
        "implemented to show the directed graph of the IDA* path.\n",
        "\n",
        "Args:\n",
        "    grid (list of list of int): 2D list representing the grid with cell values.\n",
        "    path (list of tuple): List of tuples representing the optimal path through the grid.\n",
        "    node_radius (float): Radius of the nodes, used to adjust arrow positioning for clarity.\n",
        "\"\"\"\n",
        "def draw_ida_star_graph(grid, path, node_radius=0.09):\n",
        "    # Create a directed graph\n",
        "    G = nx.DiGraph()\n",
        "\n",
        "    # Add nodes to the graph (representing each position in the grid)\n",
        "    for i in range(len(grid)):\n",
        "        for j in range(len(grid[0])):\n",
        "            G.add_node((i, j), value=grid[i][j])  # Each node represents a grid cell\n",
        "\n",
        "    # Add edges representing possible moves (UP, DOWN, LEFT, RIGHT)\n",
        "    for i in range(len(grid)):\n",
        "        for j in range(len(grid[0])):\n",
        "            for dx, dy in directions:  # Iterate through valid movement directions\n",
        "                ni, nj = i + dx, j + dy  # Compute new position\n",
        "                if 0 <= ni < len(grid) and 0 <= nj < len(grid[0]):  # Ensure position is within bounds\n",
        "                    G.add_edge((i, j), (ni, nj))  # Add a directed edge\n",
        "\n",
        "    # Define node positions in a grid layout\n",
        "    pos = {node: (node[1], -node[0]) for node in G.nodes()}  # Arrange in a proper grid\n",
        "\n",
        "    # Draw the base graph in light gray (without arrows)\n",
        "    plt.figure(figsize=(8, 8))\n",
        "    nx.draw(G, pos, with_labels=True, node_size=1000, node_color=\"lightgray\", edge_color=\"gray\", font_size=10, arrows=False)\n",
        "\n",
        "    # Highlight the selected path if found\n",
        "    if path:\n",
        "        # Only keep edges in the path\n",
        "        path_edges = [(path[i], path[i+1]) for i in range(len(path) - 1)]  # Forward edges only\n",
        "        path_nodes = set(path)\n",
        "\n",
        "        # Draw only forward-moving edges manually with arrows outside the nodes\n",
        "        for edge in path_edges:\n",
        "            start, end = edge\n",
        "            start_pos = pos[start]\n",
        "            end_pos = pos[end]\n",
        "\n",
        "            # Compute offsets for the arrow to stay outside the nodes\n",
        "            dx, dy = end_pos[0] - start_pos[0], end_pos[1] - start_pos[1]\n",
        "            distance = (dx**2 + dy**2)**0.5\n",
        "            offset_x = dx / distance * node_radius\n",
        "            offset_y = dy / distance * node_radius\n",
        "\n",
        "            # Adjusted start and end points\n",
        "            adjusted_start = (start_pos[0] + offset_x, start_pos[1] + offset_y)\n",
        "            adjusted_end = (end_pos[0] - offset_x, end_pos[1] - offset_y)\n",
        "\n",
        "            # Add an arrow using Matplotlib annotations\n",
        "            plt.annotate(\n",
        "                \"\",\n",
        "                xy=adjusted_end,  # End position outside the node\n",
        "                xytext=adjusted_start,  # Start position outside the node\n",
        "                arrowprops=dict(\n",
        "                    arrowstyle=\"-|>\",\n",
        "                    color=\"red\",\n",
        "                    lw=2,\n",
        "                ),\n",
        "            )\n",
        "\n",
        "        # Highlight visited nodes in green\n",
        "        node_colors = [\"green\" if node in path_nodes else \"lightgray\" for node in G.nodes()]\n",
        "        nx.draw_networkx_nodes(G, pos, node_color=node_colors, node_size=1000)\n",
        "\n",
        "    # Show the graph\n",
        "    plt.title(\"IDA* Directed Graph\")\n",
        "    plt.show()\n",
        "\n"
      ]
    },
    {
      "cell_type": "code",
      "execution_count": null,
      "metadata": {
        "colab": {
          "base_uri": "https://localhost:8080/",
          "height": 966
        },
        "id": "Og5zI9thF7sP",
        "outputId": "5e4eeac4-5341-40ef-e6de-9a839e1fdf06"
      },
      "outputs": [
        {
          "name": "stdout",
          "output_type": "stream",
          "text": [
            "\n",
            "IDA* Algorithm:\n",
            "Path: [(0, 0), (1, 0), (2, 0), (2, 1), (2, 2)]\n",
            "Cost: 5\n",
            "Threshold: 4\n",
            "Execution Time: 0.000209 seconds\n"
          ]
        },
        {
          "data": {
            "image/png": "[encoded data removed]",
            "text/plain": [
              "<Figure size 800x800 with 1 Axes>"
            ]
          },
          "metadata": {},
          "output_type": "display_data"
        }
      ],
      "source": [
        "#Invoke algorithm 1 (Should Print the solution, path, cost etc., (As mentioned in the problem))\n",
        "start_time = time.time()\n",
        "ida_path, ida_cost, ida_threshold = ida_star(grid, start)\n",
        "ida_time = time.time() - start_time\n",
        "\n",
        "print(\"\\nIDA* Algorithm:\")\n",
        "print(\"Path:\", ida_path)\n",
        "print(\"Cost:\", ida_cost)\n",
        "print(\"Threshold:\", ida_threshold)\n",
        "print(f\"Execution Time: {ida_time:.6f} seconds\")\n",
        "draw_ida_star_graph(grid, ida_path)\n"
      ]
    },
    {
      "cell_type": "code",
      "execution_count": null,
      "metadata": {
        "id": "waydOBNqOyHZ"
      },
      "outputs": [],
      "source": [
        "def draw_hill_climbing_line(fitness_landscape, path, grid_width):\n",
        "    \"\"\"\n",
        "    Draws a line graph representing the fitness landscape with the Hill Climbing path.\n",
        "\n",
        "    Args:\n",
        "        fitness_landscape (list): 1D array representing the fitness values.\n",
        "        path (list): List of tuples representing the path taken in the grid (row, column).\n",
        "        grid_width (int): Number of columns in the grid to map 2D coordinates to 1D indices.\n",
        "    \"\"\"\n",
        "    # Map (x, y) coordinates in the path to 1D indices\n",
        "    path_indices = [x * grid_width + y for x, y in path]\n",
        "\n",
        "    # Create x-axis values (indices of the fitness landscape)\n",
        "    x = list(range(len(fitness_landscape)))\n",
        "\n",
        "    # Create the plot\n",
        "    plt.figure(figsize=(10, 6))\n",
        "\n",
        "    # Plot the fitness landscape as a dashed blue line\n",
        "    plt.plot(x, fitness_landscape, 'b--o', label=\"Fitness Landscape\")\n",
        "\n",
        "    # Extract the x and y values for the Hill Climbing path\n",
        "    path_x = path_indices\n",
        "    path_y = [fitness_landscape[i] for i in path_indices]\n",
        "\n",
        "    # Plot the Hill Climbing path as a solid red line with circular markers\n",
        "    plt.plot(path_x, path_y, 'r-o', label=\"Path Taken\")\n",
        "\n",
        "    # Mark the start and end positions on the path\n",
        "    plt.scatter(path_x[0], path_y[0], color='green', s=100, label=\"Start Position\")  # Start node in green\n",
        "    plt.scatter(path_x[-1], path_y[-1], color='yellow', s=150, edgecolor='black', label=\"End Position\")  # End node in yellow\n",
        "\n",
        "    # Add title and labels\n",
        "    plt.title(\"Fitness Landscape with Hill Climbing Path\")\n",
        "    plt.xlabel(\"State Index\")\n",
        "    plt.ylabel(\"Fitness Value\")\n",
        "\n",
        "    # Add grid, legend, and display the plot\n",
        "    plt.grid(True)\n",
        "    plt.legend()\n",
        "    plt.show()\n"
      ]
    },
    {
      "cell_type": "code",
      "execution_count": null,
      "metadata": {
        "colab": {
          "base_uri": "https://localhost:8080/",
          "height": 668
        },
        "id": "u3MJeA6eF7sP",
        "outputId": "27bbef76-3d51-476c-b81c-998b72872384"
      },
      "outputs": [
        {
          "name": "stdout",
          "output_type": "stream",
          "text": [
            "\n",
            "Hill Climbing Algorithm:\n",
            "Path: [(0, 0), (1, 0), (1, 1)]\n",
            "Cost: 3\n",
            "Final Value: 8\n",
            "Execution Time: 0.000161 seconds\n"
          ]
        },
        {
          "data": {
            "image/png": "[encoded data removed]",
            "text/plain": [
              "<Figure size 1000x600 with 1 Axes>"
            ]
          },
          "metadata": {},
          "output_type": "display_data"
        }
      ],
      "source": [
        "#Invoke algorithm 2 (Should Print the solution, path, cost etc., (As mentioned in the problem))\n",
        "\n",
        "start_time = time.time()\n",
        "hc_path, hc_cost, hc_value = hill_climbing(grid, start)\n",
        "hc_time = time.time() - start_time\n",
        "\n",
        "print(\"\\nHill Climbing Algorithm:\")\n",
        "print(\"Path:\", hc_path)\n",
        "print(\"Cost:\", hc_cost)\n",
        "print(\"Final Value:\", hc_value)\n",
        "print(f\"Execution Time: {hc_time:.6f} seconds\")\n",
        "\n",
        "# Example fitness landscape (1D array of fitness values)\n",
        "fitness_landscape = [0, 2, 4, 3, 8, 6, 4, 9, 5, 3, 8, 6, 2, 4, 7]\n",
        "\n",
        "# Grid details (for mapping (x, y) to 1D indices)\n",
        "grid_width = len(grid[0])  # Number of columns in the grid\n",
        "\n",
        "# Draw the Hill Climbing line graph\n",
        "draw_hill_climbing_line(fitness_landscape, hc_path, grid_width)\n",
        "\n"
      ]
    },
    {
      "cell_type": "markdown",
      "metadata": {
        "id": "TOU3Rem6F7sQ"
      },
      "source": [
        "### 5.\tComparitive Analysis (Time and Space Complexity)"
      ]
    },
    {
      "cell_type": "code",
      "execution_count": null,
      "metadata": {
        "colab": {
          "base_uri": "https://localhost:8080/"
        },
        "id": "HG6fWwiIF7sQ",
        "outputId": "ede8bbb5-4402-4268-bdf4-8f30f894359c"
      },
      "outputs": [
        {
          "name": "stdout",
          "output_type": "stream",
          "text": [
            "\n",
            "Time & Space Complexity of Iterative Deepening A* Algorithm (Algorithm 1):\n",
            "Time Complexity: O(b^d), Space Complexity: O(d)\n",
            "\n",
            "Time & Space Complexity of Iterative Deepening A* Algorithm:\n",
            "Branching Factor (b): 3.20\n",
            "Depth of Solution (d): 5\n",
            "Time Complexity: O(3.20^5) ≈ 335.54 operations\n",
            "Space Complexity: O(5) ≈ 5 memory usage\n"
          ]
        }
      ],
      "source": [
        "#Code Block : Print the Time & Space complexity of algorithm 1\n",
        "\n",
        "\"\"\"\n",
        "Computes the average branching factor based on the number of successors at each step.\n",
        "\n",
        "Args:\n",
        "    grid (list of lists): The 2D environment grid.\n",
        "    path (list): The path taken by the algorithm.\n",
        "\n",
        "Returns:\n",
        "    float: The average branching factor.\n",
        "\"\"\"\n",
        "def get_branching_factor(grid, path):\n",
        "    total_successors = sum(len(get_successors(state, grid)) for state in path)\n",
        "    return total_successors / len(path) if path else 1  # Avoid division by zero\n",
        "\n",
        "\"\"\"\n",
        "Runs the selected algorithm, computes actual branching factor and depth,\n",
        "and prints the actual time and space complexity.\n",
        "\n",
        "Args:\n",
        "    start (tuple): The user's chosen starting position.\n",
        "\"\"\"\n",
        "def print_ida_complexity(start):\n",
        "    # Run IDA* to get the path to the goal\n",
        "    path, depth, _ = ida_star(grid, start)\n",
        "    branching_factor = get_branching_factor(grid, path)\n",
        "\n",
        "    print(\"\\nTime & Space Complexity of Iterative Deepening A* Algorithm:\")\n",
        "    print(f\"Branching Factor (b): {branching_factor:.2f}\")\n",
        "    print(f\"Depth of Solution (d): {depth}\")\n",
        "    print(f\"Time Complexity: O({branching_factor:.2f}^{depth}) ≈ {branching_factor ** depth:.2f} operations\")\n",
        "    print(f\"Space Complexity: O({depth}) ≈ {depth} memory usage\")\n",
        "\n",
        "print(\"\\nTime & Space Complexity of Iterative Deepening A* Algorithm (Algorithm 1):\")\n",
        "print(\"Time Complexity: O(b^d), Space Complexity: O(d)\")\n",
        "print_ida_complexity(start)"
      ]
    },
    {
      "cell_type": "code",
      "execution_count": null,
      "metadata": {
        "colab": {
          "base_uri": "https://localhost:8080/"
        },
        "id": "xMButLKCF7sQ",
        "outputId": "7d793891-1891-4f25-b602-3ec9e80c941a"
      },
      "outputs": [
        {
          "name": "stdout",
          "output_type": "stream",
          "text": [
            "\n",
            "Time & Space Complexity of Hill Climbing Algorithm (Algorithm 2):\n",
            "Time Complexity: O(b * d), Space Complexity: O(1)\n",
            "\n",
            "Time & Space Complexity of Hill Climbing Algorithm:\n",
            "Branching Factor (b): 3.00\n",
            "Depth (d): 3\n",
            "Time Complexity: O(3.00 * 3) ≈ 9.00 operations\n",
            "Space Complexity: O(1)\n"
          ]
        }
      ],
      "source": [
        "#Code Block : Print the Time & Space complexity of algorithm 2\n",
        "\n",
        "\"\"\"\n",
        "Runs the selected algorithm, computes actual branching factor and depth,\n",
        "and prints the actual time and space complexity.\n",
        "\n",
        "Args:\n",
        "    start (tuple): The user's chosen starting position.\n",
        "\"\"\"\n",
        "def print_ha_complexity(start):\n",
        "      # Run Hill Climbing to get the path to the local maximum\n",
        "      path, depth, _ = hill_climbing(grid, start)\n",
        "      branching_factor = get_branching_factor(grid, path)\n",
        "\n",
        "      print(\"\\nTime & Space Complexity of Hill Climbing Algorithm:\")\n",
        "      print(f\"Branching Factor (b): {branching_factor:.2f}\")\n",
        "      print(f\"Depth (d): {depth}\")\n",
        "      print(f\"Time Complexity: O({branching_factor:.2f} * {depth}) ≈ {branching_factor * depth:.2f} operations\")\n",
        "      print(f\"Space Complexity: O(1)\")\n",
        "\n",
        "print(\"\\nTime & Space Complexity of Hill Climbing Algorithm (Algorithm 2):\")\n",
        "print(\"Time Complexity: O(b * d), Space Complexity: O(1)\")\n",
        "print_ha_complexity(start)"
      ]
    },
    {
      "cell_type": "markdown",
      "metadata": {
        "id": "y2nXwAlsF7sQ"
      },
      "source": [
        "### 6.\tProvide your comparitive analysis or findings in no more than 3 lines in below section"
      ]
    },
    {
      "cell_type": "markdown",
      "metadata": {
        "id": "si483-zoF7sQ"
      },
      "source": [
        "Comparison : <ul><li>Iterative Deepening A* algorithm guarantees an optimal solution but is slower due to exhaustive exploration.</li><li>Hill Climbing is faster but may get stuck in local maxima.</li><li>If the optimal solution is the goal/criteria, then IDA* algorithm should be chosen. If efficiency is the goal/criteria, then hill climbing algorithm should be chosen.</li>"
      ]
    }
  ],
  "metadata": {
    "colab": {
      "provenance": []
    },
    "kernelspec": {
      "display_name": "Python 3",
      "language": "python",
      "name": "python3"
    },
    "language_info": {
      "codemirror_mode": {
        "name": "ipython",
        "version": 3
      },
      "file_extension": ".py",
      "mimetype": "text/x-python",
      "name": "python",
      "nbconvert_exporter": "python",
      "pygments_lexer": "ipython3",
      "version": "3.7.6"
    }
  },
  "nbformat": 4,
  "nbformat_minor": 0
}
